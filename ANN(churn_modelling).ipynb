{
  "cells": [
    {
      "cell_type": "code",
      "execution_count": 2,
      "metadata": {
        "id": "kH5ytS-wOrkK",
        "colab": {
          "base_uri": "https://localhost:8080/"
        },
        "outputId": "1643c646-ed9e-41b7-cb41-75a5c5e7ca30"
      },
      "outputs": [
        {
          "output_type": "stream",
          "name": "stdout",
          "text": [
            "Looking in indexes: https://pypi.org/simple, https://us-python.pkg.dev/colab-wheels/public/simple/\n",
            "Collecting tensorflow-gpu\n",
            "  Downloading tensorflow_gpu-2.9.1-cp37-cp37m-manylinux_2_17_x86_64.manylinux2014_x86_64.whl (511.7 MB)\n",
            "\u001b[K     |████████████████████████████████| 511.7 MB 6.1 kB/s \n",
            "\u001b[?25hRequirement already satisfied: packaging in /usr/local/lib/python3.7/dist-packages (from tensorflow-gpu) (21.3)\n",
            "Requirement already satisfied: typing-extensions>=3.6.6 in /usr/local/lib/python3.7/dist-packages (from tensorflow-gpu) (4.1.1)\n",
            "Requirement already satisfied: astunparse>=1.6.0 in /usr/local/lib/python3.7/dist-packages (from tensorflow-gpu) (1.6.3)\n",
            "Requirement already satisfied: absl-py>=1.0.0 in /usr/local/lib/python3.7/dist-packages (from tensorflow-gpu) (1.2.0)\n",
            "Collecting gast<=0.4.0,>=0.2.1\n",
            "  Downloading gast-0.4.0-py3-none-any.whl (9.8 kB)\n",
            "Requirement already satisfied: google-pasta>=0.1.1 in /usr/local/lib/python3.7/dist-packages (from tensorflow-gpu) (0.2.0)\n",
            "Requirement already satisfied: six>=1.12.0 in /usr/local/lib/python3.7/dist-packages (from tensorflow-gpu) (1.15.0)\n",
            "Collecting tensorflow-estimator<2.10.0,>=2.9.0rc0\n",
            "  Downloading tensorflow_estimator-2.9.0-py2.py3-none-any.whl (438 kB)\n",
            "\u001b[K     |████████████████████████████████| 438 kB 49.2 MB/s \n",
            "\u001b[?25hCollecting tensorboard<2.10,>=2.9\n",
            "  Downloading tensorboard-2.9.1-py3-none-any.whl (5.8 MB)\n",
            "\u001b[K     |████████████████████████████████| 5.8 MB 40.0 MB/s \n",
            "\u001b[?25hCollecting keras<2.10.0,>=2.9.0rc0\n",
            "  Downloading keras-2.9.0-py2.py3-none-any.whl (1.6 MB)\n",
            "\u001b[K     |████████████████████████████████| 1.6 MB 45.7 MB/s \n",
            "\u001b[?25hRequirement already satisfied: tensorflow-io-gcs-filesystem>=0.23.1 in /usr/local/lib/python3.7/dist-packages (from tensorflow-gpu) (0.26.0)\n",
            "Requirement already satisfied: numpy>=1.20 in /usr/local/lib/python3.7/dist-packages (from tensorflow-gpu) (1.21.6)\n",
            "Requirement already satisfied: wrapt>=1.11.0 in /usr/local/lib/python3.7/dist-packages (from tensorflow-gpu) (1.14.1)\n",
            "Requirement already satisfied: libclang>=13.0.0 in /usr/local/lib/python3.7/dist-packages (from tensorflow-gpu) (14.0.6)\n",
            "Requirement already satisfied: protobuf<3.20,>=3.9.2 in /usr/local/lib/python3.7/dist-packages (from tensorflow-gpu) (3.17.3)\n",
            "Requirement already satisfied: grpcio<2.0,>=1.24.3 in /usr/local/lib/python3.7/dist-packages (from tensorflow-gpu) (1.47.0)\n",
            "Collecting flatbuffers<2,>=1.12\n",
            "  Downloading flatbuffers-1.12-py2.py3-none-any.whl (15 kB)\n",
            "Requirement already satisfied: termcolor>=1.1.0 in /usr/local/lib/python3.7/dist-packages (from tensorflow-gpu) (1.1.0)\n",
            "Requirement already satisfied: opt-einsum>=2.3.2 in /usr/local/lib/python3.7/dist-packages (from tensorflow-gpu) (3.3.0)\n",
            "Requirement already satisfied: h5py>=2.9.0 in /usr/local/lib/python3.7/dist-packages (from tensorflow-gpu) (3.1.0)\n",
            "Requirement already satisfied: setuptools in /usr/local/lib/python3.7/dist-packages (from tensorflow-gpu) (57.4.0)\n",
            "Requirement already satisfied: keras-preprocessing>=1.1.1 in /usr/local/lib/python3.7/dist-packages (from tensorflow-gpu) (1.1.2)\n",
            "Requirement already satisfied: wheel<1.0,>=0.23.0 in /usr/local/lib/python3.7/dist-packages (from astunparse>=1.6.0->tensorflow-gpu) (0.37.1)\n",
            "Requirement already satisfied: cached-property in /usr/local/lib/python3.7/dist-packages (from h5py>=2.9.0->tensorflow-gpu) (1.5.2)\n",
            "Requirement already satisfied: markdown>=2.6.8 in /usr/local/lib/python3.7/dist-packages (from tensorboard<2.10,>=2.9->tensorflow-gpu) (3.4.1)\n",
            "Requirement already satisfied: werkzeug>=1.0.1 in /usr/local/lib/python3.7/dist-packages (from tensorboard<2.10,>=2.9->tensorflow-gpu) (1.0.1)\n",
            "Requirement already satisfied: tensorboard-plugin-wit>=1.6.0 in /usr/local/lib/python3.7/dist-packages (from tensorboard<2.10,>=2.9->tensorflow-gpu) (1.8.1)\n",
            "Requirement already satisfied: google-auth<3,>=1.6.3 in /usr/local/lib/python3.7/dist-packages (from tensorboard<2.10,>=2.9->tensorflow-gpu) (1.35.0)\n",
            "Requirement already satisfied: requests<3,>=2.21.0 in /usr/local/lib/python3.7/dist-packages (from tensorboard<2.10,>=2.9->tensorflow-gpu) (2.23.0)\n",
            "Requirement already satisfied: tensorboard-data-server<0.7.0,>=0.6.0 in /usr/local/lib/python3.7/dist-packages (from tensorboard<2.10,>=2.9->tensorflow-gpu) (0.6.1)\n",
            "Requirement already satisfied: google-auth-oauthlib<0.5,>=0.4.1 in /usr/local/lib/python3.7/dist-packages (from tensorboard<2.10,>=2.9->tensorflow-gpu) (0.4.6)\n",
            "Requirement already satisfied: rsa<5,>=3.1.4 in /usr/local/lib/python3.7/dist-packages (from google-auth<3,>=1.6.3->tensorboard<2.10,>=2.9->tensorflow-gpu) (4.9)\n",
            "Requirement already satisfied: cachetools<5.0,>=2.0.0 in /usr/local/lib/python3.7/dist-packages (from google-auth<3,>=1.6.3->tensorboard<2.10,>=2.9->tensorflow-gpu) (4.2.4)\n",
            "Requirement already satisfied: pyasn1-modules>=0.2.1 in /usr/local/lib/python3.7/dist-packages (from google-auth<3,>=1.6.3->tensorboard<2.10,>=2.9->tensorflow-gpu) (0.2.8)\n",
            "Requirement already satisfied: requests-oauthlib>=0.7.0 in /usr/local/lib/python3.7/dist-packages (from google-auth-oauthlib<0.5,>=0.4.1->tensorboard<2.10,>=2.9->tensorflow-gpu) (1.3.1)\n",
            "Requirement already satisfied: importlib-metadata>=4.4 in /usr/local/lib/python3.7/dist-packages (from markdown>=2.6.8->tensorboard<2.10,>=2.9->tensorflow-gpu) (4.12.0)\n",
            "Requirement already satisfied: zipp>=0.5 in /usr/local/lib/python3.7/dist-packages (from importlib-metadata>=4.4->markdown>=2.6.8->tensorboard<2.10,>=2.9->tensorflow-gpu) (3.8.1)\n",
            "Requirement already satisfied: pyasn1<0.5.0,>=0.4.6 in /usr/local/lib/python3.7/dist-packages (from pyasn1-modules>=0.2.1->google-auth<3,>=1.6.3->tensorboard<2.10,>=2.9->tensorflow-gpu) (0.4.8)\n",
            "Requirement already satisfied: urllib3!=1.25.0,!=1.25.1,<1.26,>=1.21.1 in /usr/local/lib/python3.7/dist-packages (from requests<3,>=2.21.0->tensorboard<2.10,>=2.9->tensorflow-gpu) (1.24.3)\n",
            "Requirement already satisfied: chardet<4,>=3.0.2 in /usr/local/lib/python3.7/dist-packages (from requests<3,>=2.21.0->tensorboard<2.10,>=2.9->tensorflow-gpu) (3.0.4)\n",
            "Requirement already satisfied: certifi>=2017.4.17 in /usr/local/lib/python3.7/dist-packages (from requests<3,>=2.21.0->tensorboard<2.10,>=2.9->tensorflow-gpu) (2022.6.15)\n",
            "Requirement already satisfied: idna<3,>=2.5 in /usr/local/lib/python3.7/dist-packages (from requests<3,>=2.21.0->tensorboard<2.10,>=2.9->tensorflow-gpu) (2.10)\n",
            "Requirement already satisfied: oauthlib>=3.0.0 in /usr/local/lib/python3.7/dist-packages (from requests-oauthlib>=0.7.0->google-auth-oauthlib<0.5,>=0.4.1->tensorboard<2.10,>=2.9->tensorflow-gpu) (3.2.0)\n",
            "Requirement already satisfied: pyparsing!=3.0.5,>=2.0.2 in /usr/local/lib/python3.7/dist-packages (from packaging->tensorflow-gpu) (3.0.9)\n",
            "Installing collected packages: tensorflow-estimator, tensorboard, keras, gast, flatbuffers, tensorflow-gpu\n",
            "  Attempting uninstall: tensorflow-estimator\n",
            "    Found existing installation: tensorflow-estimator 2.8.0\n",
            "    Uninstalling tensorflow-estimator-2.8.0:\n",
            "      Successfully uninstalled tensorflow-estimator-2.8.0\n",
            "  Attempting uninstall: tensorboard\n",
            "    Found existing installation: tensorboard 2.8.0\n",
            "    Uninstalling tensorboard-2.8.0:\n",
            "      Successfully uninstalled tensorboard-2.8.0\n",
            "  Attempting uninstall: keras\n",
            "    Found existing installation: keras 2.8.0\n",
            "    Uninstalling keras-2.8.0:\n",
            "      Successfully uninstalled keras-2.8.0\n",
            "  Attempting uninstall: gast\n",
            "    Found existing installation: gast 0.5.3\n",
            "    Uninstalling gast-0.5.3:\n",
            "      Successfully uninstalled gast-0.5.3\n",
            "  Attempting uninstall: flatbuffers\n",
            "    Found existing installation: flatbuffers 2.0\n",
            "    Uninstalling flatbuffers-2.0:\n",
            "      Successfully uninstalled flatbuffers-2.0\n",
            "\u001b[31mERROR: pip's dependency resolver does not currently take into account all the packages that are installed. This behaviour is the source of the following dependency conflicts.\n",
            "tensorflow 2.8.2+zzzcolab20220719082949 requires keras<2.9,>=2.8.0rc0, but you have keras 2.9.0 which is incompatible.\n",
            "tensorflow 2.8.2+zzzcolab20220719082949 requires tensorboard<2.9,>=2.8, but you have tensorboard 2.9.1 which is incompatible.\n",
            "tensorflow 2.8.2+zzzcolab20220719082949 requires tensorflow-estimator<2.9,>=2.8, but you have tensorflow-estimator 2.9.0 which is incompatible.\u001b[0m\n",
            "Successfully installed flatbuffers-1.12 gast-0.4.0 keras-2.9.0 tensorboard-2.9.1 tensorflow-estimator-2.9.0 tensorflow-gpu-2.9.1\n"
          ]
        }
      ],
      "source": [
        "!pip install tensorflow-gpu"
      ]
    },
    {
      "cell_type": "code",
      "execution_count": 3,
      "metadata": {
        "colab": {
          "base_uri": "https://localhost:8080/"
        },
        "id": "WZrxr4QtPZsS",
        "outputId": "c0750e12-6ddb-4ccf-d6f0-af16e4822ac5"
      },
      "outputs": [
        {
          "output_type": "stream",
          "name": "stdout",
          "text": [
            "2.9.1\n"
          ]
        }
      ],
      "source": [
        "import tensorflow as tf\n",
        "print(tf.__version__)"
      ]
    },
    {
      "cell_type": "code",
      "execution_count": 4,
      "metadata": {
        "id": "Tf22gmE1PiQq"
      },
      "outputs": [],
      "source": [
        "## import some basic libraries\n",
        "import numpy as np\n",
        "import matplotlib.pyplot as plt\n",
        "import pandas as pd\n"
      ]
    },
    {
      "cell_type": "code",
      "execution_count": 6,
      "metadata": {
        "colab": {
          "base_uri": "https://localhost:8080/",
          "height": 206
        },
        "id": "8rGH2ezbPve3",
        "outputId": "52183f38-aedb-4e33-cd1e-6657473fd9e8"
      },
      "outputs": [
        {
          "output_type": "execute_result",
          "data": {
            "text/plain": [
              "   RowNumber  CustomerId   Surname  CreditScore Geography  Gender  Age  \\\n",
              "0          1    15634602  Hargrave          619    France  Female   42   \n",
              "1          2    15647311      Hill          608     Spain  Female   41   \n",
              "2          3    15619304      Onio          502    France  Female   42   \n",
              "3          4    15701354      Boni          699    France  Female   39   \n",
              "4          5    15737888  Mitchell          850     Spain  Female   43   \n",
              "\n",
              "   Tenure    Balance  NumOfProducts  HasCrCard  IsActiveMember  \\\n",
              "0       2       0.00              1          1               1   \n",
              "1       1   83807.86              1          0               1   \n",
              "2       8  159660.80              3          1               0   \n",
              "3       1       0.00              2          0               0   \n",
              "4       2  125510.82              1          1               1   \n",
              "\n",
              "   EstimatedSalary  Exited  \n",
              "0        101348.88       1  \n",
              "1        112542.58       0  \n",
              "2        113931.57       1  \n",
              "3         93826.63       0  \n",
              "4         79084.10       0  "
            ],
            "text/html": [
              "\n",
              "  <div id=\"df-749131e9-1b1e-48b1-8357-86a77c968811\">\n",
              "    <div class=\"colab-df-container\">\n",
              "      <div>\n",
              "<style scoped>\n",
              "    .dataframe tbody tr th:only-of-type {\n",
              "        vertical-align: middle;\n",
              "    }\n",
              "\n",
              "    .dataframe tbody tr th {\n",
              "        vertical-align: top;\n",
              "    }\n",
              "\n",
              "    .dataframe thead th {\n",
              "        text-align: right;\n",
              "    }\n",
              "</style>\n",
              "<table border=\"1\" class=\"dataframe\">\n",
              "  <thead>\n",
              "    <tr style=\"text-align: right;\">\n",
              "      <th></th>\n",
              "      <th>RowNumber</th>\n",
              "      <th>CustomerId</th>\n",
              "      <th>Surname</th>\n",
              "      <th>CreditScore</th>\n",
              "      <th>Geography</th>\n",
              "      <th>Gender</th>\n",
              "      <th>Age</th>\n",
              "      <th>Tenure</th>\n",
              "      <th>Balance</th>\n",
              "      <th>NumOfProducts</th>\n",
              "      <th>HasCrCard</th>\n",
              "      <th>IsActiveMember</th>\n",
              "      <th>EstimatedSalary</th>\n",
              "      <th>Exited</th>\n",
              "    </tr>\n",
              "  </thead>\n",
              "  <tbody>\n",
              "    <tr>\n",
              "      <th>0</th>\n",
              "      <td>1</td>\n",
              "      <td>15634602</td>\n",
              "      <td>Hargrave</td>\n",
              "      <td>619</td>\n",
              "      <td>France</td>\n",
              "      <td>Female</td>\n",
              "      <td>42</td>\n",
              "      <td>2</td>\n",
              "      <td>0.00</td>\n",
              "      <td>1</td>\n",
              "      <td>1</td>\n",
              "      <td>1</td>\n",
              "      <td>101348.88</td>\n",
              "      <td>1</td>\n",
              "    </tr>\n",
              "    <tr>\n",
              "      <th>1</th>\n",
              "      <td>2</td>\n",
              "      <td>15647311</td>\n",
              "      <td>Hill</td>\n",
              "      <td>608</td>\n",
              "      <td>Spain</td>\n",
              "      <td>Female</td>\n",
              "      <td>41</td>\n",
              "      <td>1</td>\n",
              "      <td>83807.86</td>\n",
              "      <td>1</td>\n",
              "      <td>0</td>\n",
              "      <td>1</td>\n",
              "      <td>112542.58</td>\n",
              "      <td>0</td>\n",
              "    </tr>\n",
              "    <tr>\n",
              "      <th>2</th>\n",
              "      <td>3</td>\n",
              "      <td>15619304</td>\n",
              "      <td>Onio</td>\n",
              "      <td>502</td>\n",
              "      <td>France</td>\n",
              "      <td>Female</td>\n",
              "      <td>42</td>\n",
              "      <td>8</td>\n",
              "      <td>159660.80</td>\n",
              "      <td>3</td>\n",
              "      <td>1</td>\n",
              "      <td>0</td>\n",
              "      <td>113931.57</td>\n",
              "      <td>1</td>\n",
              "    </tr>\n",
              "    <tr>\n",
              "      <th>3</th>\n",
              "      <td>4</td>\n",
              "      <td>15701354</td>\n",
              "      <td>Boni</td>\n",
              "      <td>699</td>\n",
              "      <td>France</td>\n",
              "      <td>Female</td>\n",
              "      <td>39</td>\n",
              "      <td>1</td>\n",
              "      <td>0.00</td>\n",
              "      <td>2</td>\n",
              "      <td>0</td>\n",
              "      <td>0</td>\n",
              "      <td>93826.63</td>\n",
              "      <td>0</td>\n",
              "    </tr>\n",
              "    <tr>\n",
              "      <th>4</th>\n",
              "      <td>5</td>\n",
              "      <td>15737888</td>\n",
              "      <td>Mitchell</td>\n",
              "      <td>850</td>\n",
              "      <td>Spain</td>\n",
              "      <td>Female</td>\n",
              "      <td>43</td>\n",
              "      <td>2</td>\n",
              "      <td>125510.82</td>\n",
              "      <td>1</td>\n",
              "      <td>1</td>\n",
              "      <td>1</td>\n",
              "      <td>79084.10</td>\n",
              "      <td>0</td>\n",
              "    </tr>\n",
              "  </tbody>\n",
              "</table>\n",
              "</div>\n",
              "      <button class=\"colab-df-convert\" onclick=\"convertToInteractive('df-749131e9-1b1e-48b1-8357-86a77c968811')\"\n",
              "              title=\"Convert this dataframe to an interactive table.\"\n",
              "              style=\"display:none;\">\n",
              "        \n",
              "  <svg xmlns=\"http://www.w3.org/2000/svg\" height=\"24px\"viewBox=\"0 0 24 24\"\n",
              "       width=\"24px\">\n",
              "    <path d=\"M0 0h24v24H0V0z\" fill=\"none\"/>\n",
              "    <path d=\"M18.56 5.44l.94 2.06.94-2.06 2.06-.94-2.06-.94-.94-2.06-.94 2.06-2.06.94zm-11 1L8.5 8.5l.94-2.06 2.06-.94-2.06-.94L8.5 2.5l-.94 2.06-2.06.94zm10 10l.94 2.06.94-2.06 2.06-.94-2.06-.94-.94-2.06-.94 2.06-2.06.94z\"/><path d=\"M17.41 7.96l-1.37-1.37c-.4-.4-.92-.59-1.43-.59-.52 0-1.04.2-1.43.59L10.3 9.45l-7.72 7.72c-.78.78-.78 2.05 0 2.83L4 21.41c.39.39.9.59 1.41.59.51 0 1.02-.2 1.41-.59l7.78-7.78 2.81-2.81c.8-.78.8-2.07 0-2.86zM5.41 20L4 18.59l7.72-7.72 1.47 1.35L5.41 20z\"/>\n",
              "  </svg>\n",
              "      </button>\n",
              "      \n",
              "  <style>\n",
              "    .colab-df-container {\n",
              "      display:flex;\n",
              "      flex-wrap:wrap;\n",
              "      gap: 12px;\n",
              "    }\n",
              "\n",
              "    .colab-df-convert {\n",
              "      background-color: #E8F0FE;\n",
              "      border: none;\n",
              "      border-radius: 50%;\n",
              "      cursor: pointer;\n",
              "      display: none;\n",
              "      fill: #1967D2;\n",
              "      height: 32px;\n",
              "      padding: 0 0 0 0;\n",
              "      width: 32px;\n",
              "    }\n",
              "\n",
              "    .colab-df-convert:hover {\n",
              "      background-color: #E2EBFA;\n",
              "      box-shadow: 0px 1px 2px rgba(60, 64, 67, 0.3), 0px 1px 3px 1px rgba(60, 64, 67, 0.15);\n",
              "      fill: #174EA6;\n",
              "    }\n",
              "\n",
              "    [theme=dark] .colab-df-convert {\n",
              "      background-color: #3B4455;\n",
              "      fill: #D2E3FC;\n",
              "    }\n",
              "\n",
              "    [theme=dark] .colab-df-convert:hover {\n",
              "      background-color: #434B5C;\n",
              "      box-shadow: 0px 1px 3px 1px rgba(0, 0, 0, 0.15);\n",
              "      filter: drop-shadow(0px 1px 2px rgba(0, 0, 0, 0.3));\n",
              "      fill: #FFFFFF;\n",
              "    }\n",
              "  </style>\n",
              "\n",
              "      <script>\n",
              "        const buttonEl =\n",
              "          document.querySelector('#df-749131e9-1b1e-48b1-8357-86a77c968811 button.colab-df-convert');\n",
              "        buttonEl.style.display =\n",
              "          google.colab.kernel.accessAllowed ? 'block' : 'none';\n",
              "\n",
              "        async function convertToInteractive(key) {\n",
              "          const element = document.querySelector('#df-749131e9-1b1e-48b1-8357-86a77c968811');\n",
              "          const dataTable =\n",
              "            await google.colab.kernel.invokeFunction('convertToInteractive',\n",
              "                                                     [key], {});\n",
              "          if (!dataTable) return;\n",
              "\n",
              "          const docLinkHtml = 'Like what you see? Visit the ' +\n",
              "            '<a target=\"_blank\" href=https://colab.research.google.com/notebooks/data_table.ipynb>data table notebook</a>'\n",
              "            + ' to learn more about interactive tables.';\n",
              "          element.innerHTML = '';\n",
              "          dataTable['output_type'] = 'display_data';\n",
              "          await google.colab.output.renderOutput(dataTable, element);\n",
              "          const docLink = document.createElement('div');\n",
              "          docLink.innerHTML = docLinkHtml;\n",
              "          element.appendChild(docLink);\n",
              "        }\n",
              "      </script>\n",
              "    </div>\n",
              "  </div>\n",
              "  "
            ]
          },
          "metadata": {},
          "execution_count": 6
        }
      ],
      "source": [
        "dataset=pd.read_csv('Churn_Modelling.csv')\n",
        "dataset.head()"
      ]
    },
    {
      "cell_type": "code",
      "execution_count": 7,
      "metadata": {
        "id": "lq2u8AlOP9sv"
      },
      "outputs": [],
      "source": [
        "## Divide the datset into independent and dependent features\n",
        "\n",
        "X=dataset.iloc[:,3:13]\n",
        "\n",
        "Y=dataset.iloc[:,13]\n",
        "\n"
      ]
    },
    {
      "cell_type": "code",
      "execution_count": 8,
      "metadata": {
        "id": "RadEQasiQ7Jx"
      },
      "outputs": [],
      "source": [
        "##Feature Engineering \n",
        "\n",
        "geography=pd.get_dummies(X['Geography'],drop_first=True)\n",
        "\n",
        "gender=pd.get_dummies(X['Gender'],drop_first=True)"
      ]
    },
    {
      "cell_type": "code",
      "execution_count": 15,
      "metadata": {
        "id": "qKyx7WtkRkly"
      },
      "outputs": [],
      "source": [
        "##concatinate these variables with dataframe\n",
        "\n",
        "X=X.drop(['Geography','Gender'],axis=1)"
      ]
    },
    {
      "cell_type": "code",
      "source": [
        "X=pd.concat([X,geography,gender],axis=1)\n",
        "X.head()\n",
        "X.shape"
      ],
      "metadata": {
        "colab": {
          "base_uri": "https://localhost:8080/"
        },
        "id": "sldBCKDnyFxu",
        "outputId": "ed8ee2ea-1434-47a4-96b3-4b92c1f60239"
      },
      "execution_count": 23,
      "outputs": [
        {
          "output_type": "execute_result",
          "data": {
            "text/plain": [
              "(10000, 23)"
            ]
          },
          "metadata": {},
          "execution_count": 23
        }
      ]
    },
    {
      "cell_type": "code",
      "source": [
        ""
      ],
      "metadata": {
        "id": "7yARuN3ghJVf"
      },
      "execution_count": 23,
      "outputs": []
    },
    {
      "cell_type": "code",
      "source": [
        "## Splliting the datset into training and testing \n",
        "\n",
        "from sklearn.model_selection import train_test_split\n",
        "\n",
        "X_train,X_test,Y_train,Y_test=train_test_split(X,Y,test_size=0.2,random_state=0)"
      ],
      "metadata": {
        "id": "n_9wFYwhz6lA"
      },
      "execution_count": 17,
      "outputs": []
    },
    {
      "cell_type": "code",
      "source": [
        "##Feature scaling \n",
        "\n",
        "from sklearn.preprocessing import StandardScaler\n",
        "\n",
        "sc=StandardScaler()\n",
        "\n",
        "X_train=sc.fit_transform(X_train)\n",
        "\n",
        "X_test=sc.transform(X_test)\n"
      ],
      "metadata": {
        "id": "BDU3Zlwkz0qm"
      },
      "execution_count": 18,
      "outputs": []
    },
    {
      "cell_type": "code",
      "source": [
        "X_train"
      ],
      "metadata": {
        "colab": {
          "base_uri": "https://localhost:8080/"
        },
        "id": "jo92rrzngrRs",
        "outputId": "b072e899-3b5c-4510-8154-bb9845d44382"
      },
      "execution_count": 19,
      "outputs": [
        {
          "output_type": "execute_result",
          "data": {
            "text/plain": [
              "array([[ 0.16958176, -0.46460796,  0.00666099, ..., -0.5698444 ,\n",
              "         1.74309049, -1.09168714],\n",
              "       [-2.30455945,  0.30102557, -1.37744033, ...,  1.75486502,\n",
              "        -0.57369368,  0.91601335],\n",
              "       [-1.19119591, -0.94312892, -1.031415  , ..., -0.5698444 ,\n",
              "        -0.57369368, -1.09168714],\n",
              "       ...,\n",
              "       [ 0.9015152 , -0.36890377,  0.00666099, ..., -0.5698444 ,\n",
              "        -0.57369368,  0.91601335],\n",
              "       [-0.62420521, -0.08179119,  1.39076231, ..., -0.5698444 ,\n",
              "         1.74309049, -1.09168714],\n",
              "       [-0.28401079,  0.87525072, -1.37744033, ...,  1.75486502,\n",
              "        -0.57369368, -1.09168714]])"
            ]
          },
          "metadata": {},
          "execution_count": 19
        }
      ]
    },
    {
      "cell_type": "code",
      "source": [
        "X_test"
      ],
      "metadata": {
        "colab": {
          "base_uri": "https://localhost:8080/"
        },
        "id": "HdptrnBKgxq7",
        "outputId": "a157b741-0170-4ab2-f643-f7185e156763"
      },
      "execution_count": 20,
      "outputs": [
        {
          "output_type": "execute_result",
          "data": {
            "text/plain": [
              "array([[-0.55204276, -0.36890377,  1.04473698, ...,  1.75486502,\n",
              "        -0.57369368, -1.09168714],\n",
              "       [-1.31490297,  0.10961719, -1.031415  , ..., -0.5698444 ,\n",
              "        -0.57369368, -1.09168714],\n",
              "       [ 0.57162971,  0.30102557,  1.04473698, ..., -0.5698444 ,\n",
              "         1.74309049, -1.09168714],\n",
              "       ...,\n",
              "       [-0.74791227, -0.27319958, -1.37744033, ..., -0.5698444 ,\n",
              "         1.74309049,  0.91601335],\n",
              "       [-0.00566991, -0.46460796, -0.33936434, ...,  1.75486502,\n",
              "        -0.57369368,  0.91601335],\n",
              "       [-0.79945688, -0.84742473,  1.04473698, ...,  1.75486502,\n",
              "        -0.57369368,  0.91601335]])"
            ]
          },
          "metadata": {},
          "execution_count": 20
        }
      ]
    },
    {
      "cell_type": "code",
      "source": [
        "X_train.shape"
      ],
      "metadata": {
        "colab": {
          "base_uri": "https://localhost:8080/"
        },
        "id": "8Lz5zej8g0EK",
        "outputId": "81b205a0-7480-4199-9578-b9f2c590680f"
      },
      "execution_count": 21,
      "outputs": [
        {
          "output_type": "execute_result",
          "data": {
            "text/plain": [
              "(8000, 17)"
            ]
          },
          "metadata": {},
          "execution_count": 21
        }
      ]
    },
    {
      "cell_type": "code",
      "source": [
        "## Part 2 Now lets create a ANN model\n",
        "\n",
        "from tensorflow.keras.layers import Dense\n",
        "from tensorflow.keras.models import Sequential\n",
        "from tensorflow.keras.layers import LeakyReLU,PReLU,ELU,ReLU\n",
        "from tensorflow.keras.layers import Dropout\n",
        "\n"
      ],
      "metadata": {
        "id": "lJO6W26XhMNM"
      },
      "execution_count": 27,
      "outputs": []
    },
    {
      "cell_type": "code",
      "source": [
        "## lets initialise ANN model\n",
        "\n",
        "classifier=Sequential()\n",
        "\n",
        "classifier.add(Dense(units=17,activation='relu'))\n",
        "\n",
        "## adding 1st hidden layer\n",
        "\n",
        "classifier.add(Dense(units=9,activation='relu'))\n",
        "\n",
        "## adding 2nd hidden layer \n",
        "\n",
        "classifier.add(Dense(units=8,activation='relu'))\n",
        "\n",
        "## adding the outpput layer\n",
        "\n",
        "classifier.add(Dense(1,activation='sigmoid'))"
      ],
      "metadata": {
        "id": "rIdWevq3ij21"
      },
      "execution_count": 35,
      "outputs": []
    },
    {
      "cell_type": "code",
      "source": [
        "import tensorflow\n",
        "opt=tensorflow.keras.optimizers.Adam(learning_rate=0.01)"
      ],
      "metadata": {
        "id": "gLw5EhfykGWR"
      },
      "execution_count": 40,
      "outputs": []
    },
    {
      "cell_type": "code",
      "source": [
        "classifier.compile(optimizer=opt,loss='binary_crossentropy',metrics=['accuracy'])"
      ],
      "metadata": {
        "id": "kHFSa1p8jxr3"
      },
      "execution_count": 41,
      "outputs": []
    },
    {
      "cell_type": "code",
      "source": [
        "model_history=classifier.fit(X_train,Y_train,validation_split=0.33,batch_size=10,epochs=100)"
      ],
      "metadata": {
        "colab": {
          "base_uri": "https://localhost:8080/"
        },
        "id": "dK99xY4ekdZt",
        "outputId": "5132e2fa-22da-46af-97bb-56424d701ce0"
      },
      "execution_count": 42,
      "outputs": [
        {
          "output_type": "stream",
          "name": "stdout",
          "text": [
            "Epoch 1/100\n",
            "536/536 [==============================] - 2s 3ms/step - loss: 0.4399 - accuracy: 0.8099 - val_loss: 0.4111 - val_accuracy: 0.8254\n",
            "Epoch 2/100\n",
            "536/536 [==============================] - 2s 3ms/step - loss: 0.3862 - accuracy: 0.8444 - val_loss: 0.3708 - val_accuracy: 0.8463\n",
            "Epoch 3/100\n",
            "536/536 [==============================] - 2s 3ms/step - loss: 0.3631 - accuracy: 0.8522 - val_loss: 0.3721 - val_accuracy: 0.8406\n",
            "Epoch 4/100\n",
            "536/536 [==============================] - 2s 3ms/step - loss: 0.3548 - accuracy: 0.8561 - val_loss: 0.3698 - val_accuracy: 0.8406\n",
            "Epoch 5/100\n",
            "536/536 [==============================] - 2s 3ms/step - loss: 0.3507 - accuracy: 0.8558 - val_loss: 0.3713 - val_accuracy: 0.8466\n",
            "Epoch 6/100\n",
            "536/536 [==============================] - 2s 3ms/step - loss: 0.3475 - accuracy: 0.8569 - val_loss: 0.3680 - val_accuracy: 0.8417\n",
            "Epoch 7/100\n",
            "536/536 [==============================] - 1s 3ms/step - loss: 0.3442 - accuracy: 0.8572 - val_loss: 0.3648 - val_accuracy: 0.8474\n",
            "Epoch 8/100\n",
            "536/536 [==============================] - 2s 3ms/step - loss: 0.3475 - accuracy: 0.8552 - val_loss: 0.3659 - val_accuracy: 0.8440\n",
            "Epoch 9/100\n",
            "536/536 [==============================] - 2s 4ms/step - loss: 0.3418 - accuracy: 0.8571 - val_loss: 0.3646 - val_accuracy: 0.8455\n",
            "Epoch 10/100\n",
            "536/536 [==============================] - 1s 3ms/step - loss: 0.3427 - accuracy: 0.8578 - val_loss: 0.3610 - val_accuracy: 0.8519\n",
            "Epoch 11/100\n",
            "536/536 [==============================] - 2s 3ms/step - loss: 0.3375 - accuracy: 0.8578 - val_loss: 0.3614 - val_accuracy: 0.8436\n",
            "Epoch 12/100\n",
            "536/536 [==============================] - 1s 3ms/step - loss: 0.3374 - accuracy: 0.8589 - val_loss: 0.3592 - val_accuracy: 0.8463\n",
            "Epoch 13/100\n",
            "536/536 [==============================] - 2s 3ms/step - loss: 0.3371 - accuracy: 0.8576 - val_loss: 0.3614 - val_accuracy: 0.8482\n",
            "Epoch 14/100\n",
            "536/536 [==============================] - 2s 3ms/step - loss: 0.3374 - accuracy: 0.8571 - val_loss: 0.3656 - val_accuracy: 0.8455\n",
            "Epoch 15/100\n",
            "536/536 [==============================] - 2s 3ms/step - loss: 0.3359 - accuracy: 0.8554 - val_loss: 0.3679 - val_accuracy: 0.8474\n",
            "Epoch 16/100\n",
            "536/536 [==============================] - 3s 5ms/step - loss: 0.3338 - accuracy: 0.8586 - val_loss: 0.3705 - val_accuracy: 0.8474\n",
            "Epoch 17/100\n",
            "536/536 [==============================] - 2s 3ms/step - loss: 0.3324 - accuracy: 0.8578 - val_loss: 0.3656 - val_accuracy: 0.8417\n",
            "Epoch 18/100\n",
            "536/536 [==============================] - 1s 3ms/step - loss: 0.3295 - accuracy: 0.8617 - val_loss: 0.3756 - val_accuracy: 0.8470\n",
            "Epoch 19/100\n",
            "536/536 [==============================] - 1s 3ms/step - loss: 0.3316 - accuracy: 0.8563 - val_loss: 0.3687 - val_accuracy: 0.8478\n",
            "Epoch 20/100\n",
            "536/536 [==============================] - 2s 3ms/step - loss: 0.3298 - accuracy: 0.8580 - val_loss: 0.3740 - val_accuracy: 0.8432\n",
            "Epoch 21/100\n",
            "536/536 [==============================] - 2s 3ms/step - loss: 0.3308 - accuracy: 0.8606 - val_loss: 0.3670 - val_accuracy: 0.8448\n",
            "Epoch 22/100\n",
            "536/536 [==============================] - 2s 3ms/step - loss: 0.3263 - accuracy: 0.8608 - val_loss: 0.3771 - val_accuracy: 0.8413\n",
            "Epoch 23/100\n",
            "536/536 [==============================] - 2s 3ms/step - loss: 0.3270 - accuracy: 0.8615 - val_loss: 0.3675 - val_accuracy: 0.8402\n",
            "Epoch 24/100\n",
            "536/536 [==============================] - 1s 3ms/step - loss: 0.3246 - accuracy: 0.8621 - val_loss: 0.3774 - val_accuracy: 0.8478\n",
            "Epoch 25/100\n",
            "536/536 [==============================] - 1s 3ms/step - loss: 0.3266 - accuracy: 0.8617 - val_loss: 0.3709 - val_accuracy: 0.8493\n",
            "Epoch 26/100\n",
            "536/536 [==============================] - 2s 3ms/step - loss: 0.3244 - accuracy: 0.8642 - val_loss: 0.3681 - val_accuracy: 0.8463\n",
            "Epoch 27/100\n",
            "536/536 [==============================] - 2s 3ms/step - loss: 0.3234 - accuracy: 0.8625 - val_loss: 0.3678 - val_accuracy: 0.8485\n",
            "Epoch 28/100\n",
            "536/536 [==============================] - 2s 4ms/step - loss: 0.3210 - accuracy: 0.8612 - val_loss: 0.3673 - val_accuracy: 0.8451\n",
            "Epoch 29/100\n",
            "536/536 [==============================] - 2s 3ms/step - loss: 0.3222 - accuracy: 0.8584 - val_loss: 0.3926 - val_accuracy: 0.8478\n",
            "Epoch 30/100\n",
            "536/536 [==============================] - 2s 3ms/step - loss: 0.3230 - accuracy: 0.8630 - val_loss: 0.3710 - val_accuracy: 0.8451\n",
            "Epoch 31/100\n",
            "536/536 [==============================] - 2s 3ms/step - loss: 0.3255 - accuracy: 0.8614 - val_loss: 0.3657 - val_accuracy: 0.8463\n",
            "Epoch 32/100\n",
            "536/536 [==============================] - 1s 3ms/step - loss: 0.3206 - accuracy: 0.8617 - val_loss: 0.3782 - val_accuracy: 0.8470\n",
            "Epoch 33/100\n",
            "536/536 [==============================] - 1s 3ms/step - loss: 0.3212 - accuracy: 0.8627 - val_loss: 0.3689 - val_accuracy: 0.8512\n",
            "Epoch 34/100\n",
            "536/536 [==============================] - 2s 3ms/step - loss: 0.3185 - accuracy: 0.8614 - val_loss: 0.3752 - val_accuracy: 0.8482\n",
            "Epoch 35/100\n",
            "536/536 [==============================] - 2s 3ms/step - loss: 0.3157 - accuracy: 0.8645 - val_loss: 0.3824 - val_accuracy: 0.8425\n",
            "Epoch 36/100\n",
            "536/536 [==============================] - 2s 3ms/step - loss: 0.3178 - accuracy: 0.8632 - val_loss: 0.3990 - val_accuracy: 0.8368\n",
            "Epoch 37/100\n",
            "536/536 [==============================] - 2s 3ms/step - loss: 0.3180 - accuracy: 0.8632 - val_loss: 0.3818 - val_accuracy: 0.8482\n",
            "Epoch 38/100\n",
            "536/536 [==============================] - 1s 3ms/step - loss: 0.3203 - accuracy: 0.8617 - val_loss: 0.3889 - val_accuracy: 0.8470\n",
            "Epoch 39/100\n",
            "536/536 [==============================] - 2s 3ms/step - loss: 0.3214 - accuracy: 0.8617 - val_loss: 0.3704 - val_accuracy: 0.8485\n",
            "Epoch 40/100\n",
            "536/536 [==============================] - 3s 5ms/step - loss: 0.3176 - accuracy: 0.8619 - val_loss: 0.3730 - val_accuracy: 0.8508\n",
            "Epoch 41/100\n",
            "536/536 [==============================] - 2s 3ms/step - loss: 0.3171 - accuracy: 0.8599 - val_loss: 0.3885 - val_accuracy: 0.8463\n",
            "Epoch 42/100\n",
            "536/536 [==============================] - 2s 3ms/step - loss: 0.3152 - accuracy: 0.8628 - val_loss: 0.3706 - val_accuracy: 0.8489\n",
            "Epoch 43/100\n",
            "536/536 [==============================] - 2s 3ms/step - loss: 0.3150 - accuracy: 0.8658 - val_loss: 0.3741 - val_accuracy: 0.8444\n",
            "Epoch 44/100\n",
            "536/536 [==============================] - 1s 3ms/step - loss: 0.3155 - accuracy: 0.8628 - val_loss: 0.3868 - val_accuracy: 0.8485\n",
            "Epoch 45/100\n",
            "536/536 [==============================] - 2s 3ms/step - loss: 0.3109 - accuracy: 0.8610 - val_loss: 0.3796 - val_accuracy: 0.8448\n",
            "Epoch 46/100\n",
            "536/536 [==============================] - 2s 3ms/step - loss: 0.3129 - accuracy: 0.8651 - val_loss: 0.3816 - val_accuracy: 0.8455\n",
            "Epoch 47/100\n",
            "536/536 [==============================] - 2s 3ms/step - loss: 0.3105 - accuracy: 0.8651 - val_loss: 0.3850 - val_accuracy: 0.8478\n",
            "Epoch 48/100\n",
            "536/536 [==============================] - 2s 3ms/step - loss: 0.3094 - accuracy: 0.8679 - val_loss: 0.3873 - val_accuracy: 0.8478\n",
            "Epoch 49/100\n",
            "536/536 [==============================] - 2s 3ms/step - loss: 0.3101 - accuracy: 0.8625 - val_loss: 0.3914 - val_accuracy: 0.8474\n",
            "Epoch 50/100\n",
            "536/536 [==============================] - 2s 3ms/step - loss: 0.3121 - accuracy: 0.8656 - val_loss: 0.3785 - val_accuracy: 0.8482\n",
            "Epoch 51/100\n",
            "536/536 [==============================] - 2s 4ms/step - loss: 0.3088 - accuracy: 0.8645 - val_loss: 0.3932 - val_accuracy: 0.8463\n",
            "Epoch 52/100\n",
            "536/536 [==============================] - 2s 4ms/step - loss: 0.3087 - accuracy: 0.8656 - val_loss: 0.3872 - val_accuracy: 0.8455\n",
            "Epoch 53/100\n",
            "536/536 [==============================] - 2s 3ms/step - loss: 0.3084 - accuracy: 0.8666 - val_loss: 0.3823 - val_accuracy: 0.8493\n",
            "Epoch 54/100\n",
            "536/536 [==============================] - 2s 3ms/step - loss: 0.3062 - accuracy: 0.8686 - val_loss: 0.3885 - val_accuracy: 0.8501\n",
            "Epoch 55/100\n",
            "536/536 [==============================] - 2s 3ms/step - loss: 0.3073 - accuracy: 0.8675 - val_loss: 0.3832 - val_accuracy: 0.8429\n",
            "Epoch 56/100\n",
            "536/536 [==============================] - 2s 3ms/step - loss: 0.3057 - accuracy: 0.8688 - val_loss: 0.4009 - val_accuracy: 0.8501\n",
            "Epoch 57/100\n",
            "536/536 [==============================] - 2s 3ms/step - loss: 0.3077 - accuracy: 0.8647 - val_loss: 0.4114 - val_accuracy: 0.8508\n",
            "Epoch 58/100\n",
            "536/536 [==============================] - 2s 3ms/step - loss: 0.3055 - accuracy: 0.8707 - val_loss: 0.3877 - val_accuracy: 0.8538\n",
            "Epoch 59/100\n",
            "536/536 [==============================] - 2s 3ms/step - loss: 0.3078 - accuracy: 0.8677 - val_loss: 0.4339 - val_accuracy: 0.8478\n",
            "Epoch 60/100\n",
            "536/536 [==============================] - 2s 3ms/step - loss: 0.3041 - accuracy: 0.8651 - val_loss: 0.3977 - val_accuracy: 0.8580\n",
            "Epoch 61/100\n",
            "536/536 [==============================] - 2s 3ms/step - loss: 0.3113 - accuracy: 0.8662 - val_loss: 0.3903 - val_accuracy: 0.8466\n",
            "Epoch 62/100\n",
            "536/536 [==============================] - 1s 3ms/step - loss: 0.3052 - accuracy: 0.8679 - val_loss: 0.4355 - val_accuracy: 0.8576\n",
            "Epoch 63/100\n",
            "536/536 [==============================] - 2s 3ms/step - loss: 0.3070 - accuracy: 0.8692 - val_loss: 0.4216 - val_accuracy: 0.8554\n",
            "Epoch 64/100\n",
            "536/536 [==============================] - 2s 3ms/step - loss: 0.3042 - accuracy: 0.8692 - val_loss: 0.3939 - val_accuracy: 0.8519\n",
            "Epoch 65/100\n",
            "536/536 [==============================] - 1s 3ms/step - loss: 0.3027 - accuracy: 0.8692 - val_loss: 0.3868 - val_accuracy: 0.8576\n",
            "Epoch 66/100\n",
            "536/536 [==============================] - 2s 3ms/step - loss: 0.3051 - accuracy: 0.8666 - val_loss: 0.4073 - val_accuracy: 0.8485\n",
            "Epoch 67/100\n",
            "536/536 [==============================] - 2s 3ms/step - loss: 0.3037 - accuracy: 0.8679 - val_loss: 0.4056 - val_accuracy: 0.8508\n",
            "Epoch 68/100\n",
            "536/536 [==============================] - 2s 3ms/step - loss: 0.3010 - accuracy: 0.8699 - val_loss: 0.4131 - val_accuracy: 0.8478\n",
            "Epoch 69/100\n",
            "536/536 [==============================] - 2s 3ms/step - loss: 0.3030 - accuracy: 0.8684 - val_loss: 0.4055 - val_accuracy: 0.8531\n",
            "Epoch 70/100\n",
            "536/536 [==============================] - 2s 3ms/step - loss: 0.3051 - accuracy: 0.8642 - val_loss: 0.4252 - val_accuracy: 0.8504\n",
            "Epoch 71/100\n",
            "536/536 [==============================] - 1s 3ms/step - loss: 0.3050 - accuracy: 0.8662 - val_loss: 0.4075 - val_accuracy: 0.8527\n",
            "Epoch 72/100\n",
            "536/536 [==============================] - 1s 3ms/step - loss: 0.3039 - accuracy: 0.8653 - val_loss: 0.4003 - val_accuracy: 0.8535\n",
            "Epoch 73/100\n",
            "536/536 [==============================] - 2s 3ms/step - loss: 0.3022 - accuracy: 0.8684 - val_loss: 0.4161 - val_accuracy: 0.8519\n",
            "Epoch 74/100\n",
            "536/536 [==============================] - 2s 3ms/step - loss: 0.3025 - accuracy: 0.8655 - val_loss: 0.4010 - val_accuracy: 0.8554\n",
            "Epoch 75/100\n",
            "536/536 [==============================] - 2s 3ms/step - loss: 0.3028 - accuracy: 0.8670 - val_loss: 0.4069 - val_accuracy: 0.8516\n",
            "Epoch 76/100\n",
            "536/536 [==============================] - 2s 3ms/step - loss: 0.2992 - accuracy: 0.8671 - val_loss: 0.4176 - val_accuracy: 0.8523\n",
            "Epoch 77/100\n",
            "536/536 [==============================] - 2s 3ms/step - loss: 0.2987 - accuracy: 0.8675 - val_loss: 0.4034 - val_accuracy: 0.8527\n",
            "Epoch 78/100\n",
            "536/536 [==============================] - 1s 3ms/step - loss: 0.3018 - accuracy: 0.8681 - val_loss: 0.4411 - val_accuracy: 0.8448\n",
            "Epoch 79/100\n",
            "536/536 [==============================] - 2s 3ms/step - loss: 0.3014 - accuracy: 0.8617 - val_loss: 0.4041 - val_accuracy: 0.8451\n",
            "Epoch 80/100\n",
            "536/536 [==============================] - 2s 3ms/step - loss: 0.3029 - accuracy: 0.8645 - val_loss: 0.3934 - val_accuracy: 0.8519\n",
            "Epoch 81/100\n",
            "536/536 [==============================] - 2s 3ms/step - loss: 0.2976 - accuracy: 0.8671 - val_loss: 0.4424 - val_accuracy: 0.8512\n",
            "Epoch 82/100\n",
            "536/536 [==============================] - 2s 3ms/step - loss: 0.3013 - accuracy: 0.8660 - val_loss: 0.4407 - val_accuracy: 0.8440\n",
            "Epoch 83/100\n",
            "536/536 [==============================] - 2s 3ms/step - loss: 0.3054 - accuracy: 0.8671 - val_loss: 0.4023 - val_accuracy: 0.8546\n",
            "Epoch 84/100\n",
            "536/536 [==============================] - 2s 3ms/step - loss: 0.2970 - accuracy: 0.8643 - val_loss: 0.4417 - val_accuracy: 0.8493\n",
            "Epoch 85/100\n",
            "536/536 [==============================] - 2s 3ms/step - loss: 0.2979 - accuracy: 0.8671 - val_loss: 0.4028 - val_accuracy: 0.8493\n",
            "Epoch 86/100\n",
            "536/536 [==============================] - 2s 3ms/step - loss: 0.2990 - accuracy: 0.8684 - val_loss: 0.4080 - val_accuracy: 0.8466\n",
            "Epoch 87/100\n",
            "536/536 [==============================] - 2s 3ms/step - loss: 0.2990 - accuracy: 0.8658 - val_loss: 0.4002 - val_accuracy: 0.8470\n",
            "Epoch 88/100\n",
            "536/536 [==============================] - 1s 3ms/step - loss: 0.2981 - accuracy: 0.8668 - val_loss: 0.4365 - val_accuracy: 0.8466\n",
            "Epoch 89/100\n",
            "536/536 [==============================] - 1s 3ms/step - loss: 0.2948 - accuracy: 0.8660 - val_loss: 0.4234 - val_accuracy: 0.8451\n",
            "Epoch 90/100\n",
            "536/536 [==============================] - 2s 3ms/step - loss: 0.2996 - accuracy: 0.8684 - val_loss: 0.4312 - val_accuracy: 0.8470\n",
            "Epoch 91/100\n",
            "536/536 [==============================] - 2s 3ms/step - loss: 0.2990 - accuracy: 0.8630 - val_loss: 0.4053 - val_accuracy: 0.8485\n",
            "Epoch 92/100\n",
            "536/536 [==============================] - 1s 3ms/step - loss: 0.2980 - accuracy: 0.8653 - val_loss: 0.4176 - val_accuracy: 0.8444\n",
            "Epoch 93/100\n",
            "536/536 [==============================] - 2s 3ms/step - loss: 0.2969 - accuracy: 0.8670 - val_loss: 0.4288 - val_accuracy: 0.8448\n",
            "Epoch 94/100\n",
            "536/536 [==============================] - 2s 3ms/step - loss: 0.2969 - accuracy: 0.8670 - val_loss: 0.4112 - val_accuracy: 0.8425\n",
            "Epoch 95/100\n",
            "536/536 [==============================] - 1s 3ms/step - loss: 0.2968 - accuracy: 0.8645 - val_loss: 0.3965 - val_accuracy: 0.8463\n",
            "Epoch 96/100\n",
            "536/536 [==============================] - 2s 3ms/step - loss: 0.2968 - accuracy: 0.8591 - val_loss: 0.4149 - val_accuracy: 0.8448\n",
            "Epoch 97/100\n",
            "536/536 [==============================] - 1s 3ms/step - loss: 0.2970 - accuracy: 0.8670 - val_loss: 0.4122 - val_accuracy: 0.8432\n",
            "Epoch 98/100\n",
            "536/536 [==============================] - 2s 3ms/step - loss: 0.2989 - accuracy: 0.8698 - val_loss: 0.4186 - val_accuracy: 0.8523\n",
            "Epoch 99/100\n",
            "536/536 [==============================] - 2s 3ms/step - loss: 0.2989 - accuracy: 0.8683 - val_loss: 0.4435 - val_accuracy: 0.8448\n",
            "Epoch 100/100\n",
            "536/536 [==============================] - 2s 3ms/step - loss: 0.2972 - accuracy: 0.8701 - val_loss: 0.4141 - val_accuracy: 0.8485\n"
          ]
        }
      ]
    },
    {
      "cell_type": "markdown",
      "source": [
        "import tensorflow as tf\n",
        "tf.keras.callbacks.EarlyStopping(\n",
        "    monitor=\"val_loss\",\n",
        "    min_delta=0,\n",
        "    patience=0,\n",
        "    verbose=0,\n",
        "    mode=\"auto\",\n",
        "    baseline=None,\n",
        "    restore_best_weights=False,\n",
        ")"
      ],
      "metadata": {
        "id": "w6B-z9vMlmKB"
      }
    },
    {
      "cell_type": "code",
      "source": [
        "model_history.history.keys()"
      ],
      "metadata": {
        "colab": {
          "base_uri": "https://localhost:8080/"
        },
        "id": "EcIKWf2ulaSz",
        "outputId": "f905d4b9-af5e-4186-863d-3344f8bdbc97"
      },
      "execution_count": 43,
      "outputs": [
        {
          "output_type": "execute_result",
          "data": {
            "text/plain": [
              "dict_keys(['loss', 'accuracy', 'val_loss', 'val_accuracy'])"
            ]
          },
          "metadata": {},
          "execution_count": 43
        }
      ]
    },
    {
      "cell_type": "code",
      "source": [
        "plt.plot(model_history.history['accuracy'])\n",
        "plt.plot(model_history.history['val_accuracy'])\n",
        "plt.title('model accuracy')\n",
        "plt.ylabel('accuracy')\n",
        "plt.xlabel('epoch')\n",
        "plt.legend(['train','test'],loc='upper left')\n",
        "plt.show()"
      ],
      "metadata": {
        "colab": {
          "base_uri": "https://localhost:8080/",
          "height": 295
        },
        "id": "UOUfpCWKl9rT",
        "outputId": "e40ee07a-905b-4038-ca5f-81e9d9791154"
      },
      "execution_count": 44,
      "outputs": [
        {
          "output_type": "display_data",
          "data": {
            "text/plain": [
              "<Figure size 432x288 with 1 Axes>"
            ],
            "image/png": "[encoded data removed]"
          },
          "metadata": {
            "needs_background": "light"
          }
        }
      ]
    },
    {
      "cell_type": "code",
      "source": [
        "plt.plot(model_history.history['loss'])\n",
        "plt.plot(model_history.history['val_loss'])\n",
        "plt.title('model loss')\n",
        "plt.ylabel('loss')\n",
        "plt.xlabel('epoch')\n",
        "plt.legend(['train','test'],loc='upper left')\n",
        "plt.show()"
      ],
      "metadata": {
        "colab": {
          "base_uri": "https://localhost:8080/",
          "height": 295
        },
        "id": "OT73nA0OmnSK",
        "outputId": "28e35416-f8e1-4807-9933-4cf962c434db"
      },
      "execution_count": 45,
      "outputs": [
        {
          "output_type": "display_data",
          "data": {
            "text/plain": [
              "<Figure size 432x288 with 1 Axes>"
            ],
            "image/png": "[encoded data removed]"
          },
          "metadata": {
            "needs_background": "light"
          }
        }
      ]
    },
    {
      "cell_type": "code",
      "source": [
        "## part 3 making the predictions and evaluating the model\n",
        "\n",
        "# predicating tne tes set results\n",
        "Y_pred=classifier.predict(X_test)\n",
        "Y_pred=(Y_pred >=0.5)"
      ],
      "metadata": {
        "colab": {
          "base_uri": "https://localhost:8080/"
        },
        "id": "NVKGfe7Mm6rJ",
        "outputId": "ebdcf5db-6c41-4a7b-b14c-0da062a3dca3"
      },
      "execution_count": 47,
      "outputs": [
        {
          "output_type": "stream",
          "name": "stdout",
          "text": [
            "63/63 [==============================] - 0s 2ms/step\n"
          ]
        }
      ]
    },
    {
      "cell_type": "code",
      "source": [
        "## make yhe confusion matrix\n",
        "\n",
        "from sklearn.metrics import confusion_matrix\n",
        "cm=confusion_matrix(Y_test,Y_pred)\n",
        "cm"
      ],
      "metadata": {
        "colab": {
          "base_uri": "https://localhost:8080/"
        },
        "id": "aoBVnH6JnbZk",
        "outputId": "64c78351-f24c-4d32-9755-c6ca148b6e28"
      },
      "execution_count": 48,
      "outputs": [
        {
          "output_type": "execute_result",
          "data": {
            "text/plain": [
              "array([[1486,  109],\n",
              "       [ 180,  225]])"
            ]
          },
          "metadata": {},
          "execution_count": 48
        }
      ]
    },
    {
      "cell_type": "code",
      "source": [
        "## calculate the accuracy \n",
        "\n",
        "from sklearn.metrics import accuracy_score\n",
        "\n",
        "score=accuracy_score(Y_pred,Y_test)\n",
        "\n",
        "score"
      ],
      "metadata": {
        "colab": {
          "base_uri": "https://localhost:8080/"
        },
        "id": "DP1xbPnmnrCo",
        "outputId": "df42dde2-1143-496b-b058-ea8367a181d6"
      },
      "execution_count": 50,
      "outputs": [
        {
          "output_type": "execute_result",
          "data": {
            "text/plain": [
              "0.8555"
            ]
          },
          "metadata": {},
          "execution_count": 50
        }
      ]
    },
    {
      "cell_type": "code",
      "source": [
        "## get the weights \n",
        "classifier.get_weights()"
      ],
      "metadata": {
        "colab": {
          "base_uri": "https://localhost:8080/"
        },
        "id": "HVZrietLoBqD",
        "outputId": "ff1801be-5115-4892-9048-6cad525d818c"
      },
      "execution_count": 52,
      "outputs": [
        {
          "output_type": "execute_result",
          "data": {
            "text/plain": [
              "[array([[-5.65806806e-01, -1.95722008e+00, -4.11258519e-01,\n",
              "         -1.20164263e+00,  2.68418312e-01, -1.89738166e+00,\n",
              "         -1.06731892e+00, -2.87070245e-01, -1.14562653e-01,\n",
              "         -8.64420593e-01, -1.53905058e+00,  7.07647324e-01,\n",
              "          7.37439632e-01,  6.38182104e-01, -9.52853560e-01,\n",
              "          2.52230239e+00, -4.00704801e-01],\n",
              "        [-2.34143710e+00, -1.27998024e-01, -3.42188644e+00,\n",
              "         -7.19061184e+00, -3.38490582e+00, -5.62247992e-01,\n",
              "          2.83879662e+00, -8.17532063e-01, -3.17949206e-01,\n",
              "          4.70337248e+00,  4.05664301e+00, -1.59929430e+00,\n",
              "          2.90182424e+00, -4.61179066e+00, -5.38665104e+00,\n",
              "          2.15798998e+00,  3.09038043e+00],\n",
              "        [-1.01590240e+00, -3.13839483e+00,  6.71918035e-01,\n",
              "          1.34054863e+00, -2.19824687e-01,  2.07731557e+00,\n",
              "          1.76617920e-01,  2.93728709e-01, -1.28939435e-01,\n",
              "         -3.84021997e-01, -1.29654348e+00,  2.14637804e+00,\n",
              "         -8.59282732e-01,  6.47987664e-01, -1.40529859e+00,\n",
              "          3.72992826e+00, -1.95615113e+00],\n",
              "        [-6.95273352e+00, -1.09961796e+00,  9.14821401e-02,\n",
              "         -1.88962698e-01, -1.53078341e+00,  7.68963635e-01,\n",
              "         -5.35044479e+00,  6.22471988e-01, -9.09317806e-02,\n",
              "         -1.22379673e+00, -1.95241940e+00, -4.21627188e+00,\n",
              "          3.51240635e+00,  1.11274011e-01, -6.27449393e-01,\n",
              "         -5.18685341e-01,  4.90400457e+00],\n",
              "        [ 2.36393285e+00,  2.12358199e-02,  4.24604654e-01,\n",
              "         -4.78082865e-01,  1.61070287e+00,  3.66321611e+00,\n",
              "         -6.98452902e+00,  6.34014177e+00, -8.78271908e-02,\n",
              "         -8.65887582e-01, -9.62896764e-01,  5.37517214e+00,\n",
              "          1.19567168e+00,  3.68718266e-01, -2.40785623e+00,\n",
              "          2.26188636e+00,  3.60620856e+00],\n",
              "        [-9.37857032e-01, -2.63873959e+00, -7.43315279e-01,\n",
              "         -7.71787986e-02, -3.35509300e-01, -3.04275298e+00,\n",
              "         -2.53700942e-01,  8.95327888e-03,  1.11167371e-01,\n",
              "         -6.22509122e-01, -2.25911736e+00,  3.72867286e-01,\n",
              "         -8.27334002e-02,  1.14090645e+00, -7.98857510e-02,\n",
              "          9.62388992e-01, -1.40328300e+00],\n",
              "        [-1.99349761e-01,  3.93397212e+00,  3.00563121e+00,\n",
              "          8.47058773e-01, -7.27159023e-01,  5.46325386e-01,\n",
              "         -7.29573190e-01,  2.87366003e-01,  5.30338064e-02,\n",
              "          3.95790577e+00, -2.85126495e+00,  3.15154934e+00,\n",
              "         -6.45757139e-01,  2.66429234e+00,  2.42589474e+00,\n",
              "          2.39563274e+00, -4.94986735e-02],\n",
              "        [ 4.16384310e-01,  1.78297722e+00, -6.99118912e-01,\n",
              "         -1.10474122e+00, -3.43501496e+00, -5.33804464e+00,\n",
              "         -5.07111959e-02, -1.33975670e-01, -1.24540120e-01,\n",
              "         -3.02432775e-01, -2.07994747e+00,  2.14743209e+00,\n",
              "         -2.50172639e+00, -2.08214450e+00,  1.16207683e+00,\n",
              "         -8.71764302e-01,  3.67842764e-01],\n",
              "        [ 2.37459803e+00,  2.29545578e-01, -4.89510179e-01,\n",
              "         -8.38711262e-01, -3.31584072e+00,  7.81036079e-01,\n",
              "          1.14277029e+00, -5.44899046e-01,  3.53793830e-01,\n",
              "          1.73733905e-01, -8.66295695e-01,  3.89584839e-01,\n",
              "         -2.01768637e+00,  1.41599432e-01,  6.70984030e-01,\n",
              "          1.29628778e+00,  1.17230463e+00],\n",
              "        [ 2.81246275e-01, -6.04366958e-01,  3.05953354e-01,\n",
              "          3.76431674e-01, -1.49439013e+00,  2.28729788e-02,\n",
              "         -2.27806941e-01, -1.30859137e-01, -3.59793395e-01,\n",
              "          3.62829775e-01, -1.56413630e-01, -2.31375918e-01,\n",
              "         -8.21833670e-01,  2.20174861e+00, -2.00833988e+00,\n",
              "         -4.50608492e-01,  5.83243251e-01],\n",
              "        [ 6.20239913e-01,  7.56100535e-01,  1.66633821e+00,\n",
              "          7.99852669e-01,  1.06489074e+00, -8.75904322e-01,\n",
              "          1.91931829e-01,  1.25823289e-01, -1.27113014e-01,\n",
              "          2.41928428e-01, -7.99571425e-02,  2.87408113e-01,\n",
              "          7.48457432e-01, -1.34201631e-01, -1.36288214e+00,\n",
              "         -4.40095272e-03,  3.07390869e-01],\n",
              "        [ 1.99639201e+00,  1.55470312e-01, -3.66998017e-01,\n",
              "         -8.12435627e-01, -3.29468536e+00,  4.19804245e-01,\n",
              "          1.40042830e+00, -3.64354163e-01, -2.04477057e-01,\n",
              "          3.53314936e-01, -1.32570434e+00,  9.72743928e-01,\n",
              "         -2.18109941e+00,  2.69467803e-03,  1.31650555e+00,\n",
              "          1.04248035e+00,  7.27778256e-01],\n",
              "        [ 6.33652985e-01, -7.23183215e-01,  4.34500538e-02,\n",
              "         -8.53069425e-02, -2.13854480e+00, -5.14345523e-03,\n",
              "         -4.54479069e-01, -3.31063837e-01, -1.31167367e-01,\n",
              "          1.12619162e-01, -8.16811383e-01, -9.03439373e-02,\n",
              "         -9.02019083e-01,  2.19117117e+00, -1.98176718e+00,\n",
              "         -1.20400071e+00,  7.30199963e-02],\n",
              "        [ 7.43438601e-01,  7.72816181e-01,  1.69406629e+00,\n",
              "          2.95456886e-01,  7.39256680e-01, -7.07149863e-01,\n",
              "         -2.93668926e-01,  5.44894874e-01, -3.34340602e-01,\n",
              "         -2.02776138e-02, -1.63460836e-01,  5.47221601e-01,\n",
              "          6.53599739e-01, -8.70984644e-02, -7.35037506e-01,\n",
              "         -3.59644324e-01,  8.72360244e-02],\n",
              "        [ 2.53223562e+00,  3.35014105e-01,  2.82392502e-01,\n",
              "         -9.11056519e-01, -3.41906404e+00,  3.36040974e-01,\n",
              "          1.55036592e+00, -2.41172954e-01, -2.17973471e-01,\n",
              "          8.47865045e-01, -9.33810771e-01,  5.53588986e-01,\n",
              "         -2.17840552e+00,  4.05806482e-01,  9.71292019e-01,\n",
              "          5.51855206e-01,  5.22058964e-01],\n",
              "        [ 6.01837516e-01, -8.41332376e-01, -7.03926161e-02,\n",
              "          2.88490981e-01, -2.14871144e+00,  3.30468357e-01,\n",
              "         -2.61517078e-01, -1.11578852e-01,  3.90754730e-01,\n",
              "          2.24502802e-01, -5.74144006e-01, -1.86356053e-01,\n",
              "         -8.71143997e-01,  2.00443125e+00, -1.70745170e+00,\n",
              "         -6.56749666e-01,  3.29410702e-01],\n",
              "        [ 7.11218834e-01,  1.18125804e-01,  1.68438530e+00,\n",
              "          2.34867990e-01,  9.52231705e-01, -1.13220036e+00,\n",
              "         -8.18316340e-02, -1.63847450e-02,  1.81833029e-01,\n",
              "         -1.08419947e-01, -9.96520817e-02,  5.11159062e-01,\n",
              "          3.05900216e-01,  2.84788348e-02, -7.48360693e-01,\n",
              "         -4.10567194e-01, -5.21046557e-02]], dtype=float32),\n",
              " array([-3.5399582 , -6.0380545 ,  4.003739  , -4.950117  ,  2.2577322 ,\n",
              "        -1.4688241 , -1.3758708 , -6.112492  , -1.5644566 , -6.5342674 ,\n",
              "        -3.5908558 , -3.2488325 , -5.004267  ,  0.24073975,  1.4127268 ,\n",
              "        -7.7510104 , -3.578891  ], dtype=float32),\n",
              " array([[ 1.8175032e+00,  1.1429822e+00, -1.5535274e+00,  1.0678750e-01,\n",
              "          8.4302741e-01, -1.4343235e-01,  1.1870635e+00, -4.9179854e+00,\n",
              "         -4.2722039e+00],\n",
              "        [-1.8095520e+00,  1.7951169e+00, -1.1097032e+00, -2.6417354e-01,\n",
              "          3.6568427e+00, -8.9164659e-02, -6.3151507e+00, -2.8739529e+00,\n",
              "          1.2414128e-01],\n",
              "        [ 1.1030911e+00, -2.9806852e+00, -1.3551805e+00,  1.3509378e-03,\n",
              "         -2.4635644e-01, -2.4821593e-01, -2.9809037e-01,  9.2734534e-01,\n",
              "          9.1423786e-01],\n",
              "        [-1.0523589e+00,  3.5974872e+00, -6.9637752e+00,  1.9188449e-01,\n",
              "         -1.1260154e+00, -2.7655363e-01, -1.0771648e+01, -1.7190317e+00,\n",
              "         -3.5274932e-01],\n",
              "        [ 1.1925631e+00, -1.8391410e+00, -1.7642862e+00, -2.7702212e-01,\n",
              "         -2.2110283e+00, -5.3594202e-01, -2.2632334e+00,  6.6365361e-01,\n",
              "         -2.8768721e+00],\n",
              "        [ 6.3518012e-01, -5.5222521e+00,  7.0266110e-01, -4.0206942e-01,\n",
              "         -4.4328117e-01, -5.3822672e-01, -5.9345841e-01,  9.0181667e-01,\n",
              "         -1.8083236e+00],\n",
              "        [-1.6730733e+00, -1.3267038e+00,  9.9288148e-01, -2.4466722e-01,\n",
              "         -8.1975794e+00, -3.8954473e-01, -2.5274353e+00, -1.4183456e+00,\n",
              "         -1.3728950e+00],\n",
              "        [-3.7804329e+00, -1.9758115e+00,  3.7008510e+00, -4.6870422e-01,\n",
              "         -1.2305917e+00, -5.0652194e-01, -8.5500205e-01, -2.4493349e+00,\n",
              "         -8.7472731e-01],\n",
              "        [-9.0166576e-02, -2.1490979e-01,  3.9049257e-02,  1.6744152e-01,\n",
              "          4.5905697e-01, -2.8202680e-01,  2.6984665e-01, -1.5244736e-02,\n",
              "         -5.2484536e-01],\n",
              "        [-1.5170455e+00,  1.3932966e+00, -5.3821945e+00, -2.9950091e-01,\n",
              "          1.0779849e+00, -3.8067412e-01, -3.5492287e+00, -3.6662517e+00,\n",
              "          1.3380765e+00],\n",
              "        [ 1.1235275e+00,  1.4492435e+00,  1.6950535e+00, -3.9464518e-01,\n",
              "          3.3953893e+00, -3.7004389e-02,  1.5874327e+00, -1.6175091e+00,\n",
              "          1.6214913e+00],\n",
              "        [ 2.0789711e+00,  1.4294664e+00,  3.1330853e+00, -6.2860042e-01,\n",
              "          4.7999573e-01, -1.9468555e-01,  2.0667508e+00,  1.4995270e+00,\n",
              "          2.8258581e+00],\n",
              "        [-1.1957877e+00,  1.0239669e+00,  2.8313583e-01, -3.3354589e-01,\n",
              "         -4.3276501e+00, -5.5772477e-01,  1.8948307e+00, -1.6700264e+00,\n",
              "          2.0873239e+00],\n",
              "        [ 7.2775769e-01,  1.1398958e-01, -7.8664649e-01, -4.2053017e-01,\n",
              "          8.2002306e-01, -3.1151134e-01, -8.7276244e-01, -5.0491095e+00,\n",
              "          3.0980575e-01],\n",
              "        [ 8.1450862e-01, -2.5980511e+00, -1.5448107e+00, -3.9154547e-01,\n",
              "         -1.6486271e-01, -5.7153320e-01, -3.6121011e+00,  4.2567965e-01,\n",
              "         -2.3624611e+00],\n",
              "        [-3.1047475e+00,  3.6200700e+00,  5.8294249e-01, -4.6157405e-01,\n",
              "          2.5436199e+00, -5.3771209e-02, -6.2810659e+00, -1.7195665e+00,\n",
              "          3.1754942e+00],\n",
              "        [ 2.1179208e-01, -6.8180203e-02,  1.4046482e+00, -2.7119747e-01,\n",
              "         -4.8589745e+00, -2.1893457e-01,  7.0669347e-01,  2.4627388e+00,\n",
              "         -2.5340557e+00]], dtype=float32),\n",
              " array([ 1.4010303 , -4.777141  , -1.4290886 , -0.44302124, -1.8519701 ,\n",
              "        -0.7540824 ,  0.94108695, -1.7794802 , -2.965943  ], dtype=float32),\n",
              " array([[-8.2115430e-01, -8.3792955e-01, -1.3601732e-01, -6.2336993e-01,\n",
              "          3.1889334e-01, -4.2835978e-01, -4.3634385e-01, -1.3992939e+00],\n",
              "        [-1.0523338e+00, -7.2463013e-02, -2.0724969e-01, -7.2256726e-01,\n",
              "          9.9255317e-01, -5.1107782e-01, -9.3375757e-02, -7.2762120e-01],\n",
              "        [-5.0242531e-01,  8.2131191e-06, -7.6583219e-01, -6.1901444e-01,\n",
              "         -1.0321195e+00, -9.8297549e-03, -1.1232580e+00,  7.5046951e-01],\n",
              "        [-1.7258361e-02,  3.2477972e-01, -2.7384898e-01,  4.7896552e-01,\n",
              "         -1.1436664e-01,  9.1505207e-02,  1.3139439e-01, -5.8006495e-02],\n",
              "        [-4.8729587e-01, -1.6236204e-01, -2.7622283e-01, -2.5405434e-01,\n",
              "          1.4662461e+00, -2.0655923e-01, -3.6391392e-01,  1.7966400e-01],\n",
              "        [ 4.5456320e-01, -3.6423698e-01,  2.4502492e-01,  3.6641744e-01,\n",
              "          1.6232137e-01, -3.5444298e-01, -4.3072474e-01, -3.6456850e-01],\n",
              "        [ 1.9787854e-02, -1.1740527e+00, -5.4772222e-01, -6.0506827e-01,\n",
              "         -5.7500374e-01, -3.4257792e-02,  4.2778578e-02,  1.5962456e+00],\n",
              "        [-2.5476861e-01, -1.0553043e+00, -3.7105408e-01, -1.4199501e-01,\n",
              "          9.6754992e-01, -2.2464950e-01, -5.1047617e-01, -5.7593739e-01],\n",
              "        [-5.7490926e-02, -3.7617918e-02, -2.2818260e-01, -2.5689784e-01,\n",
              "          8.4328079e-01, -5.7309705e-01, -3.1206155e-01, -2.7763429e-01]],\n",
              "       dtype=float32),\n",
              " array([-0.19526003, -1.1767414 , -1.17545   , -1.1071352 , -0.2025998 ,\n",
              "        -0.450899  , -0.9550585 ,  1.0417687 ], dtype=float32),\n",
              " array([[ 0.08820493],\n",
              "        [-0.07019347],\n",
              "        [ 0.16053808],\n",
              "        [ 0.12274498],\n",
              "        [-0.2101605 ],\n",
              "        [-0.09092449],\n",
              "        [-0.03170985],\n",
              "        [ 0.19895108]], dtype=float32),\n",
              " array([-0.17374307], dtype=float32)]"
            ]
          },
          "metadata": {},
          "execution_count": 52
        }
      ]
    },
    {
      "cell_type": "code",
      "source": [
        ""
      ],
      "metadata": {
        "id": "o0f2uLNBoPpX"
      },
      "execution_count": null,
      "outputs": []
    }
  ],
  "metadata": {
    "colab": {
      "name": "ANN.ipynb",
      "provenance": [],
      "collapsed_sections": []
    },
    "kernelspec": {
      "display_name": "Python 3",
      "name": "python3"
    },
    "language_info": {
      "name": "python"
    }
  },
  "nbformat": 4,
  "nbformat_minor": 0
}